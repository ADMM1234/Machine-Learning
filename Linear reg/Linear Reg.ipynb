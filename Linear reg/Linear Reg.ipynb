{
 "cells": [
  {
   "cell_type": "code",
   "execution_count": 3,
   "metadata": {},
   "outputs": [],
   "source": [
    "import pandas as pd\n",
    "import numpy as np\n",
    "import matplotlib.pyplot as plt\n",
    "%matplotlib inline"
   ]
  },
  {
   "cell_type": "code",
   "execution_count": 4,
   "metadata": {},
   "outputs": [
    {
     "data": {
      "text/html": [
       "<div>\n",
       "<style scoped>\n",
       "    .dataframe tbody tr th:only-of-type {\n",
       "        vertical-align: middle;\n",
       "    }\n",
       "\n",
       "    .dataframe tbody tr th {\n",
       "        vertical-align: top;\n",
       "    }\n",
       "\n",
       "    .dataframe thead th {\n",
       "        text-align: right;\n",
       "    }\n",
       "</style>\n",
       "<table border=\"1\" class=\"dataframe\">\n",
       "  <thead>\n",
       "    <tr style=\"text-align: right;\">\n",
       "      <th></th>\n",
       "      <th>year</th>\n",
       "      <th>per capita income (US$)</th>\n",
       "    </tr>\n",
       "  </thead>\n",
       "  <tbody>\n",
       "    <tr>\n",
       "      <th>0</th>\n",
       "      <td>1970</td>\n",
       "      <td>3399.299037</td>\n",
       "    </tr>\n",
       "    <tr>\n",
       "      <th>1</th>\n",
       "      <td>1971</td>\n",
       "      <td>3768.297935</td>\n",
       "    </tr>\n",
       "    <tr>\n",
       "      <th>2</th>\n",
       "      <td>1972</td>\n",
       "      <td>4251.175484</td>\n",
       "    </tr>\n",
       "    <tr>\n",
       "      <th>3</th>\n",
       "      <td>1973</td>\n",
       "      <td>4804.463248</td>\n",
       "    </tr>\n",
       "    <tr>\n",
       "      <th>4</th>\n",
       "      <td>1974</td>\n",
       "      <td>5576.514583</td>\n",
       "    </tr>\n",
       "  </tbody>\n",
       "</table>\n",
       "</div>"
      ],
      "text/plain": [
       "   year  per capita income (US$)\n",
       "0  1970              3399.299037\n",
       "1  1971              3768.297935\n",
       "2  1972              4251.175484\n",
       "3  1973              4804.463248\n",
       "4  1974              5576.514583"
      ]
     },
     "execution_count": 4,
     "metadata": {},
     "output_type": "execute_result"
    }
   ],
   "source": [
    "df = pd.read_csv(\"canada_per_capita_income.csv\")\n",
    "df.head()"
   ]
  },
  {
   "cell_type": "code",
   "execution_count": 5,
   "metadata": {},
   "outputs": [
    {
     "data": {
      "text/plain": [
       "<matplotlib.collections.PathCollection at 0x1c70a8f27c0>"
      ]
     },
     "execution_count": 5,
     "metadata": {},
     "output_type": "execute_result"
    },
    {
     "data": {
      "image/png": "[encoded data removed]",
      "text/plain": [
       "<Figure size 432x288 with 1 Axes>"
      ]
     },
     "metadata": {
      "needs_background": "light"
     },
     "output_type": "display_data"
    }
   ],
   "source": [
    "plt.xlabel(\"Year\")\n",
    "plt.ylabel(\"Income\")\n",
    "plt.scatter(df[\"year\"],df[\"per capita income (US$)\"],color=\"red\")"
   ]
  },
  {
   "cell_type": "code",
   "execution_count": 6,
   "metadata": {},
   "outputs": [
    {
     "name": "stdout",
     "output_type": "stream",
     "text": [
      "[[1970]\n",
      " [1971]\n",
      " [1972]\n",
      " [1973]\n",
      " [1974]\n",
      " [1975]\n",
      " [1976]\n",
      " [1977]\n",
      " [1978]\n",
      " [1979]\n",
      " [1980]\n",
      " [1981]\n",
      " [1982]\n",
      " [1983]\n",
      " [1984]\n",
      " [1985]\n",
      " [1986]\n",
      " [1987]\n",
      " [1988]\n",
      " [1989]\n",
      " [1990]\n",
      " [1991]\n",
      " [1992]\n",
      " [1993]\n",
      " [1994]\n",
      " [1995]\n",
      " [1996]\n",
      " [1997]\n",
      " [1998]\n",
      " [1999]\n",
      " [2000]\n",
      " [2001]\n",
      " [2002]\n",
      " [2003]\n",
      " [2004]\n",
      " [2005]\n",
      " [2006]\n",
      " [2007]\n",
      " [2008]\n",
      " [2009]\n",
      " [2010]\n",
      " [2011]\n",
      " [2012]\n",
      " [2013]\n",
      " [2014]\n",
      " [2015]\n",
      " [2016]]\n",
      "[[ 3399.299037]\n",
      " [ 3768.297935]\n",
      " [ 4251.175484]\n",
      " [ 4804.463248]\n",
      " [ 5576.514583]\n",
      " [ 5998.144346]\n",
      " [ 7062.131392]\n",
      " [ 7100.12617 ]\n",
      " [ 7247.967035]\n",
      " [ 7602.912681]\n",
      " [ 8355.96812 ]\n",
      " [ 9434.390652]\n",
      " [ 9619.438377]\n",
      " [10416.53659 ]\n",
      " [10790.32872 ]\n",
      " [11018.95585 ]\n",
      " [11482.89153 ]\n",
      " [12974.80662 ]\n",
      " [15080.28345 ]\n",
      " [16426.72548 ]\n",
      " [16838.6732  ]\n",
      " [17266.09769 ]\n",
      " [16412.08309 ]\n",
      " [15875.58673 ]\n",
      " [15755.82027 ]\n",
      " [16369.31725 ]\n",
      " [16699.82668 ]\n",
      " [17310.75775 ]\n",
      " [16622.67187 ]\n",
      " [17581.02414 ]\n",
      " [18987.38241 ]\n",
      " [18601.39724 ]\n",
      " [19232.17556 ]\n",
      " [22739.42628 ]\n",
      " [25719.14715 ]\n",
      " [29198.05569 ]\n",
      " [32738.2629  ]\n",
      " [36144.48122 ]\n",
      " [37446.48609 ]\n",
      " [32755.17682 ]\n",
      " [38420.52289 ]\n",
      " [42334.71121 ]\n",
      " [42665.25597 ]\n",
      " [42676.46837 ]\n",
      " [41039.8936  ]\n",
      " [35175.18898 ]\n",
      " [34229.19363 ]]\n"
     ]
    }
   ],
   "source": [
    "X = df.iloc[:,0].values.reshape(-1, 1)\n",
    "y = df.iloc[:,1].values.reshape(-1, 1)\n",
    "print(X)\n",
    "print(y)"
   ]
  },
  {
   "cell_type": "code",
   "execution_count": 7,
   "metadata": {},
   "outputs": [
    {
     "data": {
      "text/plain": [
       "LinearRegression()"
      ]
     },
     "execution_count": 7,
     "metadata": {},
     "output_type": "execute_result"
    }
   ],
   "source": [
    "from sklearn import linear_model\n",
    "reg = linear_model.LinearRegression()\n",
    "reg.fit(X,y)"
   ]
  },
  {
   "cell_type": "code",
   "execution_count": 8,
   "metadata": {},
   "outputs": [
    {
     "data": {
      "text/plain": [
       "array([[41288.69409442]])"
      ]
     },
     "execution_count": 8,
     "metadata": {},
     "output_type": "execute_result"
    }
   ],
   "source": [
    "A = np.array(2020)\n",
    "reg.predict(A.reshape(1, -1))"
   ]
  },
  {
   "cell_type": "code",
   "execution_count": 9,
   "metadata": {},
   "outputs": [],
   "source": [
    "y_pred=reg.predict(X)"
   ]
  },
  {
   "cell_type": "code",
   "execution_count": 10,
   "metadata": {},
   "outputs": [
    {
     "data": {
      "text/plain": [
       "[<matplotlib.lines.Line2D at 0x1c70cbc46a0>]"
      ]
     },
     "execution_count": 10,
     "metadata": {},
     "output_type": "execute_result"
    },
    {
     "data": {
      "image/png": "[encoded data removed]",
      "text/plain": [
       "<Figure size 432x288 with 1 Axes>"
      ]
     },
     "metadata": {
      "needs_background": "light"
     },
     "output_type": "display_data"
    }
   ],
   "source": [
    "plt.xlabel(\"Year\")\n",
    "plt.ylabel(\"Income\")\n",
    "plt.scatter(df[\"year\"],df[\"per capita income (US$)\"],color=\"red\")\n",
    "plt.plot(df[\"year\"],y_pred,color=\"blue\")"
   ]
  },
  {
   "cell_type": "markdown",
   "metadata": {},
   "source": [
    "### Libraries Used to export and import ml models"
   ]
  },
  {
   "cell_type": "code",
   "execution_count": 11,
   "metadata": {},
   "outputs": [],
   "source": [
    "# Method 1 using pickle \n",
    "import pickle"
   ]
  },
  {
   "cell_type": "code",
   "execution_count": 15,
   "metadata": {},
   "outputs": [],
   "source": [
    "with open(\"model_pickle\",\"wb\") as f:\n",
    "    pickle.dump(reg,f)"
   ]
  },
  {
   "cell_type": "code",
   "execution_count": 16,
   "metadata": {},
   "outputs": [],
   "source": [
    "with open(\"model_pickle\",\"rb\") as f:\n",
    "    mp = pickle.load(f)"
   ]
  },
  {
   "cell_type": "code",
   "execution_count": 17,
   "metadata": {},
   "outputs": [
    {
     "data": {
      "text/plain": [
       "array([[41288.69409442]])"
      ]
     },
     "execution_count": 17,
     "metadata": {},
     "output_type": "execute_result"
    }
   ],
   "source": [
    "mp.predict(A.reshape(1, -1))"
   ]
  },
  {
   "cell_type": "code",
   "execution_count": 19,
   "metadata": {},
   "outputs": [],
   "source": [
    "# Method 2 using joblib\n",
    "import joblib"
   ]
  },
  {
   "cell_type": "code",
   "execution_count": 20,
   "metadata": {},
   "outputs": [
    {
     "data": {
      "text/plain": [
       "['Linear_Reg']"
      ]
     },
     "execution_count": 20,
     "metadata": {},
     "output_type": "execute_result"
    }
   ],
   "source": [
    "joblib.dump(reg,\"Linear_Reg\")"
   ]
  },
  {
   "cell_type": "code",
   "execution_count": 21,
   "metadata": {},
   "outputs": [],
   "source": [
    "mo = joblib.load(\"Linear_Reg\")"
   ]
  },
  {
   "cell_type": "code",
   "execution_count": 22,
   "metadata": {},
   "outputs": [
    {
     "data": {
      "text/plain": [
       "array([[41288.69409442]])"
      ]
     },
     "execution_count": 22,
     "metadata": {},
     "output_type": "execute_result"
    }
   ],
   "source": [
    "mo.predict(A.reshape(1, -1))"
   ]
  },
  {
   "cell_type": "code",
   "execution_count": null,
   "metadata": {},
   "outputs": [],
   "source": []
  }
 ],
 "metadata": {
  "kernelspec": {
   "display_name": "Python 3",
   "language": "python",
   "name": "python3"
  },
  "language_info": {
   "codemirror_mode": {
    "name": "ipython",
    "version": 3
   },
   "file_extension": ".py",
   "mimetype": "text/x-python",
   "name": "python",
   "nbconvert_exporter": "python",
   "pygments_lexer": "ipython3",
   "version": "3.8.3"
  }
 },
 "nbformat": 4,
 "nbformat_minor": 4
}
